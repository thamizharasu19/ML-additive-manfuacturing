{
 "cells": [
  {
   "cell_type": "markdown",
   "id": "add0a5f7",
   "metadata": {},
   "source": [
    "# IMPORTING NECCESSARY LIBRARIES"
   ]
  },
  {
   "cell_type": "code",
   "execution_count": 1,
   "id": "fc10c522",
   "metadata": {},
   "outputs": [],
   "source": [
    "import numpy as np\n",
    "import pandas as pd\n",
    "import matplotlib.pyplot as plt\n",
    "import seaborn as sns"
   ]
  },
  {
   "cell_type": "code",
   "execution_count": 2,
   "id": "1a54fcbc",
   "metadata": {},
   "outputs": [],
   "source": [
    "df = pd.read_csv(r\"C:\\Users\\tamil\\Desktop\\SEM 9\\LEAN_PAPER\\lean-data.csv\")"
   ]
  },
  {
   "cell_type": "code",
   "execution_count": 4,
   "id": "2a15e699",
   "metadata": {},
   "outputs": [
    {
     "data": {
      "text/html": [
       "<div>\n",
       "<style scoped>\n",
       "    .dataframe tbody tr th:only-of-type {\n",
       "        vertical-align: middle;\n",
       "    }\n",
       "\n",
       "    .dataframe tbody tr th {\n",
       "        vertical-align: top;\n",
       "    }\n",
       "\n",
       "    .dataframe thead th {\n",
       "        text-align: right;\n",
       "    }\n",
       "</style>\n",
       "<table border=\"1\" class=\"dataframe\">\n",
       "  <thead>\n",
       "    <tr style=\"text-align: right;\">\n",
       "      <th></th>\n",
       "      <th>WELDING SPEED(m/min)</th>\n",
       "      <th>WIRE FEED SPEED(m/min)</th>\n",
       "      <th>OVERLAP RATIO(%)</th>\n",
       "      <th>SURFACE ROUGHNESS(mm)</th>\n",
       "    </tr>\n",
       "  </thead>\n",
       "  <tbody>\n",
       "    <tr>\n",
       "      <th>0</th>\n",
       "      <td>4.0</td>\n",
       "      <td>5.0</td>\n",
       "      <td>0.10</td>\n",
       "      <td>0.601</td>\n",
       "    </tr>\n",
       "    <tr>\n",
       "      <th>1</th>\n",
       "      <td>4.0</td>\n",
       "      <td>7.0</td>\n",
       "      <td>0.25</td>\n",
       "      <td>0.312</td>\n",
       "    </tr>\n",
       "    <tr>\n",
       "      <th>2</th>\n",
       "      <td>5.5</td>\n",
       "      <td>8.3</td>\n",
       "      <td>0.25</td>\n",
       "      <td>0.311</td>\n",
       "    </tr>\n",
       "    <tr>\n",
       "      <th>3</th>\n",
       "      <td>4.0</td>\n",
       "      <td>8.3</td>\n",
       "      <td>0.20</td>\n",
       "      <td>0.852</td>\n",
       "    </tr>\n",
       "    <tr>\n",
       "      <th>4</th>\n",
       "      <td>7.0</td>\n",
       "      <td>5.0</td>\n",
       "      <td>0.20</td>\n",
       "      <td>0.240</td>\n",
       "    </tr>\n",
       "  </tbody>\n",
       "</table>\n",
       "</div>"
      ],
      "text/plain": [
       "   WELDING SPEED(m/min)  WIRE FEED SPEED(m/min)  OVERLAP RATIO(%)  \\\n",
       "0                   4.0                     5.0              0.10   \n",
       "1                   4.0                     7.0              0.25   \n",
       "2                   5.5                     8.3              0.25   \n",
       "3                   4.0                     8.3              0.20   \n",
       "4                   7.0                     5.0              0.20   \n",
       "\n",
       "   SURFACE ROUGHNESS(mm)  \n",
       "0                  0.601  \n",
       "1                  0.312  \n",
       "2                  0.311  \n",
       "3                  0.852  \n",
       "4                  0.240  "
      ]
     },
     "execution_count": 4,
     "metadata": {},
     "output_type": "execute_result"
    }
   ],
   "source": [
    "df.head()"
   ]
  },
  {
   "cell_type": "code",
   "execution_count": 8,
   "id": "45229a5d",
   "metadata": {},
   "outputs": [],
   "source": [
    "X = df.drop('SURFACE ROUGHNESS(mm)',axis='columns')\n",
    "y = df[['SURFACE ROUGHNESS(mm)']]"
   ]
  },
  {
   "cell_type": "markdown",
   "id": "a1ba1675",
   "metadata": {},
   "source": [
    "# DESCRIPTIVE STATICSTICS OF DATA"
   ]
  },
  {
   "cell_type": "code",
   "execution_count": 9,
   "id": "3f0829cb",
   "metadata": {},
   "outputs": [
    {
     "data": {
      "text/html": [
       "<div>\n",
       "<style scoped>\n",
       "    .dataframe tbody tr th:only-of-type {\n",
       "        vertical-align: middle;\n",
       "    }\n",
       "\n",
       "    .dataframe tbody tr th {\n",
       "        vertical-align: top;\n",
       "    }\n",
       "\n",
       "    .dataframe thead th {\n",
       "        text-align: right;\n",
       "    }\n",
       "</style>\n",
       "<table border=\"1\" class=\"dataframe\">\n",
       "  <thead>\n",
       "    <tr style=\"text-align: right;\">\n",
       "      <th></th>\n",
       "      <th>WELDING SPEED(m/min)</th>\n",
       "      <th>WIRE FEED SPEED(m/min)</th>\n",
       "      <th>OVERLAP RATIO(%)</th>\n",
       "      <th>SURFACE ROUGHNESS(mm)</th>\n",
       "    </tr>\n",
       "  </thead>\n",
       "  <tbody>\n",
       "    <tr>\n",
       "      <th>count</th>\n",
       "      <td>27.000000</td>\n",
       "      <td>27.000000</td>\n",
       "      <td>27.000000</td>\n",
       "      <td>27.000000</td>\n",
       "    </tr>\n",
       "    <tr>\n",
       "      <th>mean</th>\n",
       "      <td>5.500000</td>\n",
       "      <td>6.766667</td>\n",
       "      <td>0.183333</td>\n",
       "      <td>0.443481</td>\n",
       "    </tr>\n",
       "    <tr>\n",
       "      <th>std</th>\n",
       "      <td>1.248075</td>\n",
       "      <td>1.383140</td>\n",
       "      <td>0.063549</td>\n",
       "      <td>0.209135</td>\n",
       "    </tr>\n",
       "    <tr>\n",
       "      <th>min</th>\n",
       "      <td>4.000000</td>\n",
       "      <td>5.000000</td>\n",
       "      <td>0.100000</td>\n",
       "      <td>0.185000</td>\n",
       "    </tr>\n",
       "    <tr>\n",
       "      <th>25%</th>\n",
       "      <td>4.000000</td>\n",
       "      <td>5.000000</td>\n",
       "      <td>0.100000</td>\n",
       "      <td>0.281000</td>\n",
       "    </tr>\n",
       "    <tr>\n",
       "      <th>50%</th>\n",
       "      <td>5.500000</td>\n",
       "      <td>7.000000</td>\n",
       "      <td>0.200000</td>\n",
       "      <td>0.382000</td>\n",
       "    </tr>\n",
       "    <tr>\n",
       "      <th>75%</th>\n",
       "      <td>7.000000</td>\n",
       "      <td>8.300000</td>\n",
       "      <td>0.250000</td>\n",
       "      <td>0.607000</td>\n",
       "    </tr>\n",
       "    <tr>\n",
       "      <th>max</th>\n",
       "      <td>7.000000</td>\n",
       "      <td>8.300000</td>\n",
       "      <td>0.250000</td>\n",
       "      <td>0.852000</td>\n",
       "    </tr>\n",
       "  </tbody>\n",
       "</table>\n",
       "</div>"
      ],
      "text/plain": [
       "       WELDING SPEED(m/min)  WIRE FEED SPEED(m/min)  OVERLAP RATIO(%)  \\\n",
       "count             27.000000               27.000000         27.000000   \n",
       "mean               5.500000                6.766667          0.183333   \n",
       "std                1.248075                1.383140          0.063549   \n",
       "min                4.000000                5.000000          0.100000   \n",
       "25%                4.000000                5.000000          0.100000   \n",
       "50%                5.500000                7.000000          0.200000   \n",
       "75%                7.000000                8.300000          0.250000   \n",
       "max                7.000000                8.300000          0.250000   \n",
       "\n",
       "       SURFACE ROUGHNESS(mm)  \n",
       "count              27.000000  \n",
       "mean                0.443481  \n",
       "std                 0.209135  \n",
       "min                 0.185000  \n",
       "25%                 0.281000  \n",
       "50%                 0.382000  \n",
       "75%                 0.607000  \n",
       "max                 0.852000  "
      ]
     },
     "execution_count": 9,
     "metadata": {},
     "output_type": "execute_result"
    }
   ],
   "source": [
    "df.describe()"
   ]
  },
  {
   "cell_type": "code",
   "execution_count": 10,
   "id": "6336a1b0",
   "metadata": {},
   "outputs": [
    {
     "data": {
      "image/png": "[encoded data removed]",
      "text/plain": [
       "<Figure size 432x288 with 2 Axes>"
      ]
     },
     "metadata": {
      "needs_background": "light"
     },
     "output_type": "display_data"
    }
   ],
   "source": [
    "#DISPLAYING CORRELATION PLOT\n",
    "dataplot = sns.heatmap(df.corr(), cmap=\"YlGnBu\", annot=True)\n",
    "  \n",
    "# displaying heatmap\n",
    "plt.show()"
   ]
  },
  {
   "cell_type": "code",
   "execution_count": 3,
   "id": "de574450",
   "metadata": {},
   "outputs": [],
   "source": [
    "from sklearn.model_selection import train_test_split"
   ]
  },
  {
   "cell_type": "code",
   "execution_count": 9,
   "id": "22399fba",
   "metadata": {},
   "outputs": [],
   "source": [
    "X_train, X_test, y_train, y_test = train_test_split(X, y, test_size=0.33, random_state=42)"
   ]
  },
  {
   "cell_type": "code",
   "execution_count": 14,
   "id": "d027a34e",
   "metadata": {},
   "outputs": [],
   "source": [
    "from sklearn.linear_model import LinearRegression"
   ]
  },
  {
   "cell_type": "code",
   "execution_count": 15,
   "id": "f359ff7c",
   "metadata": {},
   "outputs": [],
   "source": [
    "model = LinearRegression()"
   ]
  },
  {
   "cell_type": "code",
   "execution_count": 16,
   "id": "5f743e82",
   "metadata": {},
   "outputs": [
    {
     "data": {
      "text/plain": [
       "LinearRegression()"
      ]
     },
     "execution_count": 16,
     "metadata": {},
     "output_type": "execute_result"
    }
   ],
   "source": [
    "model.fit(X_train,y_train)"
   ]
  },
  {
   "cell_type": "code",
   "execution_count": 17,
   "id": "c143b5f0",
   "metadata": {},
   "outputs": [
    {
     "data": {
      "text/plain": [
       "0.7513872792259154"
      ]
     },
     "execution_count": 17,
     "metadata": {},
     "output_type": "execute_result"
    }
   ],
   "source": [
    "model.score(X_test,y_test)"
   ]
  },
  {
   "cell_type": "code",
   "execution_count": 5,
   "id": "c91911ef",
   "metadata": {},
   "outputs": [],
   "source": [
    "from sklearn import tree\n",
    "from sklearn.svm import SVR\n",
    "from sklearn.ensemble import RandomForestRegressor\n",
    "from sklearn.gaussian_process import GaussianProcessRegressor\n",
    "from sklearn.neural_network import MLPRegressor\n",
    "from sklearn.model_selection import KFold"
   ]
  },
  {
   "cell_type": "code",
   "execution_count": 32,
   "id": "b8a94130",
   "metadata": {},
   "outputs": [
    {
     "name": "stderr",
     "output_type": "stream",
     "text": [
      "<ipython-input-32-52f05d4dbf77>:2: DataConversionWarning: A column-vector y was passed when a 1d array was expected. Please change the shape of y to (n_samples,), for example using ravel().\n",
      "  rf.fit(X_train,y_train)\n"
     ]
    }
   ],
   "source": [
    "rf = RandomForestRegressor()\n",
    "rf.fit(X_train,y_train)\n",
    "rf.score(X_test,y_test)\n",
    "y_p = rf.predict(X_test)"
   ]
  },
  {
   "cell_type": "code",
   "execution_count": 12,
   "id": "ac139e25",
   "metadata": {},
   "outputs": [],
   "source": [
    "feat = df.columns[[0,1,2]]\n",
    "\n",
    "imp = rf.feature_importances_\n",
    "ind = np.argsort(imp)"
   ]
  },
  {
   "cell_type": "code",
   "execution_count": 13,
   "id": "9f015ec8",
   "metadata": {},
   "outputs": [
    {
     "data": {
      "image/png": "[encoded data removed]",
      "text/plain": [
       "<Figure size 432x288 with 1 Axes>"
      ]
     },
     "metadata": {
      "needs_background": "light"
     },
     "output_type": "display_data"
    }
   ],
   "source": [
    "plt.title('Feature Importance Graph')\n",
    "plt.barh(range(len(ind)), imp[ind], color='b', align='center')\n",
    "plt.yticks(range(len(ind)), [feat[i] for i in ind])\n",
    "plt.xlabel('Relative Importance')\n",
    "plt.show()"
   ]
  },
  {
   "cell_type": "code",
   "execution_count": 18,
   "id": "81872a42",
   "metadata": {},
   "outputs": [],
   "source": [
    "y_pred = model.predict(X_test)"
   ]
  },
  {
   "cell_type": "code",
   "execution_count": 20,
   "id": "d413fdae",
   "metadata": {},
   "outputs": [
    {
     "data": {
      "text/html": [
       "<div>\n",
       "<style scoped>\n",
       "    .dataframe tbody tr th:only-of-type {\n",
       "        vertical-align: middle;\n",
       "    }\n",
       "\n",
       "    .dataframe tbody tr th {\n",
       "        vertical-align: top;\n",
       "    }\n",
       "\n",
       "    .dataframe thead th {\n",
       "        text-align: right;\n",
       "    }\n",
       "</style>\n",
       "<table border=\"1\" class=\"dataframe\">\n",
       "  <thead>\n",
       "    <tr style=\"text-align: right;\">\n",
       "      <th></th>\n",
       "      <th>SURFACE ROUGHNESS(mm)</th>\n",
       "    </tr>\n",
       "  </thead>\n",
       "  <tbody>\n",
       "    <tr>\n",
       "      <th>8</th>\n",
       "      <td>0.406</td>\n",
       "    </tr>\n",
       "    <tr>\n",
       "      <th>13</th>\n",
       "      <td>0.318</td>\n",
       "    </tr>\n",
       "    <tr>\n",
       "      <th>9</th>\n",
       "      <td>0.416</td>\n",
       "    </tr>\n",
       "    <tr>\n",
       "      <th>21</th>\n",
       "      <td>0.834</td>\n",
       "    </tr>\n",
       "    <tr>\n",
       "      <th>0</th>\n",
       "      <td>0.601</td>\n",
       "    </tr>\n",
       "    <tr>\n",
       "      <th>11</th>\n",
       "      <td>0.612</td>\n",
       "    </tr>\n",
       "    <tr>\n",
       "      <th>16</th>\n",
       "      <td>0.382</td>\n",
       "    </tr>\n",
       "    <tr>\n",
       "      <th>17</th>\n",
       "      <td>0.419</td>\n",
       "    </tr>\n",
       "    <tr>\n",
       "      <th>12</th>\n",
       "      <td>0.611</td>\n",
       "    </tr>\n",
       "  </tbody>\n",
       "</table>\n",
       "</div>"
      ],
      "text/plain": [
       "    SURFACE ROUGHNESS(mm)\n",
       "8                   0.406\n",
       "13                  0.318\n",
       "9                   0.416\n",
       "21                  0.834\n",
       "0                   0.601\n",
       "11                  0.612\n",
       "16                  0.382\n",
       "17                  0.419\n",
       "12                  0.611"
      ]
     },
     "execution_count": 20,
     "metadata": {},
     "output_type": "execute_result"
    }
   ],
   "source": [
    "y_test"
   ]
  },
  {
   "cell_type": "code",
   "execution_count": 22,
   "id": "c3bc4a6e",
   "metadata": {},
   "outputs": [],
   "source": [
    "from sklearn.metrics import r2_score\n",
    "from sklearn.metrics import mean_absolute_error as MAE\n",
    "from sklearn.metrics import mean_squared_error\n",
    "\n",
    "\n",
    "def R2_score_(a,b):\n",
    "    return r2_score(a,b)\n",
    "\n",
    "def mse_(a,b):\n",
    "    return mean_squared_error(a,b)\n",
    "\n",
    "def rmse_(a,b):\n",
    "    return np.sqrt(mse_(a,b))\n",
    "\n",
    "def mae_(a,b):\n",
    "    return MAE(a,b)"
   ]
  },
  {
   "cell_type": "code",
   "execution_count": 23,
   "id": "af091953",
   "metadata": {},
   "outputs": [
    {
     "name": "stdout",
     "output_type": "stream",
     "text": [
      "COEFFICIENT OF DETERMINATION  :  0.7513872792259154\n",
      "MEAN SQUARE ERROR             :  0.005940020866548277\n",
      "ROOT MEAN SQUARE ERROR        :  0.07707153084342024\n",
      "MEAN ABSOLUTE ERROR           :  0.06205639415660294\n"
     ]
    }
   ],
   "source": [
    "print(\"COEFFICIENT OF DETERMINATION  : \" , R2_score_(y_test,y_pred))\n",
    "print(\"MEAN SQUARE ERROR             : \" , mse_(y_test,y_pred))\n",
    "print(\"ROOT MEAN SQUARE ERROR        : \" , rmse_(y_test,y_pred))\n",
    "print(\"MEAN ABSOLUTE ERROR           : \" , mae_(y_test,y_pred))"
   ]
  },
  {
   "cell_type": "code",
   "execution_count": 33,
   "id": "b607684d",
   "metadata": {},
   "outputs": [
    {
     "name": "stdout",
     "output_type": "stream",
     "text": [
      "COEFFICIENT OF DETERMINATION  :  0.6969152096877692\n",
      "MEAN SQUARE ERROR             :  0.007241503866666691\n",
      "ROOT MEAN SQUARE ERROR        :  0.08509702619167542\n",
      "MEAN ABSOLUTE ERROR           :  0.06344666666666673\n"
     ]
    }
   ],
   "source": [
    "print(\"COEFFICIENT OF DETERMINATION  : \" , R2_score_(y_test,y_p))\n",
    "print(\"MEAN SQUARE ERROR             : \" , mse_(y_test,y_p))\n",
    "print(\"ROOT MEAN SQUARE ERROR        : \" , rmse_(y_test,y_p))\n",
    "print(\"MEAN ABSOLUTE ERROR           : \" , mae_(y_test,y_p))"
   ]
  },
  {
   "cell_type": "code",
   "execution_count": null,
   "id": "f58d1086",
   "metadata": {},
   "outputs": [],
   "source": []
  }
 ],
 "metadata": {
  "kernelspec": {
   "display_name": "Python 3",
   "language": "python",
   "name": "python3"
  },
  "language_info": {
   "codemirror_mode": {
    "name": "ipython",
    "version": 3
   },
   "file_extension": ".py",
   "mimetype": "text/x-python",
   "name": "python",
   "nbconvert_exporter": "python",
   "pygments_lexer": "ipython3",
   "version": "3.8.5"
  }
 },
 "nbformat": 4,
 "nbformat_minor": 5
}
